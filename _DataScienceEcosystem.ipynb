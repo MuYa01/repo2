{
 "cells": [
  {
   "cell_type": "markdown",
   "id": "97a26213",
   "metadata": {},
   "source": [
    "# Data Science Tools and Ecosystem"
   ]
  },
  {
   "cell_type": "markdown",
   "id": "d9046b69",
   "metadata": {},
   "source": [
    "In this notebook, Data Science Tools and Ecosystem are summarized."
   ]
  },
  {
   "cell_type": "markdown",
   "id": "bda15f65",
   "metadata": {},
   "source": [
    "Some of the popular languages that Data Scientists use are:\n",
    "\n",
    "order list:\n",
    "    1 - Python \n",
    "    2 - R \n",
    "    3 - Julia\n",
    "    4 - Perl "
   ]
  },
  {
   "cell_type": "markdown",
   "id": "8f1e5bb8",
   "metadata": {},
   "source": [
    "**Objectives:**\n",
    "\n",
    "- Convert minutes to hours using Python\n",
    "- List popular programming languages for Data Science\n",
    "- List popular libraries by Data Scientists \n",
    "- List popular Data Science tools \n",
    "- Arithmetic expression examples \n"
   ]
  },
  {
   "cell_type": "markdown",
   "id": "c39df4ca",
   "metadata": {},
   "source": [
    "#Some of the commonly used libraries used by Data Scientists include:\n",
    "\n",
    "order list:\n",
    "     1 - Pandas\n",
    "     2 - Matplotlib \n",
    "     3 - SciPy\n",
    "    "
   ]
  },
  {
   "cell_type": "markdown",
   "id": "0af1f2bf",
   "metadata": {},
   "source": [
    "| Data Science Tools |\n",
    "| ------------------ |\n",
    "| Jupyter Notebook   |\n",
    "| RStudio            |\n",
    "| Spyder             |\n"
   ]
  },
  {
   "cell_type": "markdown",
   "id": "5be8eae1",
   "metadata": {},
   "source": [
    "# arithmetic expression examples\n",
    "\n",
    "### Below are a few examples of evaluating arithmetic expressions in Python: \n"
   ]
  },
  {
   "cell_type": "code",
   "execution_count": 7,
   "id": "744cf87b",
   "metadata": {},
   "outputs": [
    {
     "data": {
      "text/plain": [
       "17"
      ]
     },
     "execution_count": 7,
     "metadata": {},
     "output_type": "execute_result"
    }
   ],
   "source": [
    "#This a simple arithmetic expression to mutiply then add integers\n",
    "\n",
    "(3*4)+5"
   ]
  },
  {
   "cell_type": "code",
   "execution_count": 14,
   "id": "a60dd644",
   "metadata": {},
   "outputs": [
    {
     "name": "stdout",
     "output_type": "stream",
     "text": [
      "3.3333333333333335\n"
     ]
    }
   ],
   "source": [
    "#This will convert 200 minutes to hours by diving by 60\n",
    "\n",
    "minutes = 200\n",
    "hours = minutes / 60 \n",
    "\n",
    "print(hours)\n"
   ]
  },
  {
   "cell_type": "markdown",
   "id": "17b53c51",
   "metadata": {},
   "source": [
    "## Auther \n",
    "Muhammad"
   ]
  }
 ],
 "metadata": {
  "kernelspec": {
   "display_name": "Python 3 (ipykernel)",
   "language": "python",
   "name": "python3"
  },
  "language_info": {
   "codemirror_mode": {
    "name": "ipython",
    "version": 3
   },
   "file_extension": ".py",
   "mimetype": "text/x-python",
   "name": "python",
   "nbconvert_exporter": "python",
   "pygments_lexer": "ipython3",
   "version": "3.10.9"
  }
 },
 "nbformat": 4,
 "nbformat_minor": 5
}
